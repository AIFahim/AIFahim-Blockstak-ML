{
  "nbformat": 4,
  "nbformat_minor": 0,
  "metadata": {
    "colab": {
      "provenance": []
    },
    "kernelspec": {
      "name": "python3",
      "display_name": "Python 3"
    },
    "language_info": {
      "name": "python"
    }
  },
  "cells": [
    {
      "cell_type": "markdown",
      "source": [
        "## Predictive Modeling/Classification Notebook\n",
        "This notebook contains the Predictive Modeling and Classification tasks performed on the bank marketing dataset.\n",
        "\n",
        "### Plans:\n",
        "1. Data Preprocessing\n",
        "2. Initial Modeling - validating with 10 fold cross validations\n",
        "3. Retraining with Outlier Removed Features - validating with 10 fold cross validations\n",
        "4. Retraining with Top Features - validating with 10 fold cross validations\n",
        "5. Retraining with Outlier Removed + Top Features - validating with 10 fold cross validations\n",
        "6. Ensemble Modeling - validating with 10 fold cross validations\n",
        "7. Hyper-parameters tunining with Optuna Framework - validating with 10 fold cross validations\n",
        "7. Best Perfomed Model Checkpoint Saving for Deployment"
      ],
      "metadata": {
        "id": "0KPSO1U9WUpN"
      }
    },
    {
      "cell_type": "markdown",
      "source": [
        "#### Data Preprocessing - Lable Encoding Categorical Features"
      ],
      "metadata": {
        "id": "ipJn5fx9XS5h"
      }
    },
    {
      "cell_type": "code",
      "execution_count": 64,
      "metadata": {
        "id": "bZMQSTowDOae"
      },
      "outputs": [],
      "source": [
        "# Import the necessary libraries\n",
        "import pandas as pd\n",
        "from sklearn.model_selection import train_test_split\n",
        "from sklearn.preprocessing import StandardScaler, LabelEncoder\n",
        "\n",
        "# Reload the data\n",
        "df = pd.read_csv('/content/ML Assessment Dataset (Bank Data) - Sheet1.csv')\n",
        "\n",
        "# Identify the categorical columns for Label Encoding\n",
        "label_columns = df.select_dtypes(include=['object']).columns\n",
        "\n",
        "# Initialize the Label Encoder\n",
        "label_encoder = LabelEncoder()\n",
        "\n",
        "# Convert categorical variables to numerical form using Label Encoding\n",
        "for column in label_columns:\n",
        "    df[column] = label_encoder.fit_transform(df[column])\n",
        "\n",
        "\n",
        "# Separate features (X) and target variable (y)\n",
        "X = df.drop('y', axis=1)\n",
        "y = df['y']\n",
        "\n",
        "\n",
        "# Standardize the feature variables (important for models like Naive Bayes)\n",
        "scaler = StandardScaler()\n",
        "X_scaled = scaler.fit_transform(X)\n"
      ]
    },
    {
      "cell_type": "markdown",
      "source": [
        "#### Initial Model Training"
      ],
      "metadata": {
        "id": "LQJbgOsnZg4i"
      }
    },
    {
      "cell_type": "markdown",
      "source": [
        "Model Training DecisionTreeClassifier - Validating with 10 Folds\n"
      ],
      "metadata": {
        "id": "XVO6O-HmYI_W"
      }
    },
    {
      "cell_type": "code",
      "source": [
        "from sklearn.tree import DecisionTreeClassifier\n",
        "from sklearn.model_selection import cross_val_score\n",
        "import numpy as np\n",
        "\n",
        "# Initialize the Decision Tree Classifier\n",
        "dt_model = DecisionTreeClassifier(random_state=42)\n",
        "\n",
        "# Perform 10-Fold Cross-Validation\n",
        "cv_scores_dt = cross_val_score(dt_model, X_scaled, y, cv=10)\n",
        "\n",
        "# Calculate the mean and standard deviation of the cross-validation scores\n",
        "cv_mean_dt = np.mean(cv_scores_dt)\n",
        "cv_std_dt = np.std(cv_scores_dt)\n",
        "\n",
        "cv_mean_dt, cv_std_dt\n"
      ],
      "metadata": {
        "colab": {
          "base_uri": "https://localhost:8080/"
        },
        "id": "PzbF_FK9X3Gv",
        "outputId": "1594894f-c23b-4262-e66a-69e95ef9744a"
      },
      "execution_count": 65,
      "outputs": [
        {
          "output_type": "execute_result",
          "data": {
            "text/plain": [
              "(0.8672869171110982, 0.010317171288062858)"
            ]
          },
          "metadata": {},
          "execution_count": 65
        }
      ]
    },
    {
      "cell_type": "markdown",
      "source": [
        "*   Mean Accuracy: Approximately 86.73%\n",
        "*   Standard Deviation: Approximately 1.03%\n",
        "\n",
        "\n"
      ],
      "metadata": {
        "id": "e-shkVTAYuE9"
      }
    },
    {
      "cell_type": "markdown",
      "source": [
        "Model Training Naive Bayes Classifier - Validating with 10 Folds"
      ],
      "metadata": {
        "id": "_W3qvvGoZY_9"
      }
    },
    {
      "cell_type": "code",
      "source": [
        "from sklearn.naive_bayes import GaussianNB\n",
        "\n",
        "# Initialize the Naive Bayes Classifier\n",
        "nb_model = GaussianNB()\n",
        "\n",
        "# Perform 10-Fold Cross-Validation\n",
        "cv_scores_nb = cross_val_score(nb_model, X_scaled, y, cv=10)\n",
        "\n",
        "# Calculate the mean and standard deviation of the cross-validation scores\n",
        "cv_mean_nb = np.mean(cv_scores_nb)\n",
        "cv_std_nb = np.std(cv_scores_nb)\n",
        "\n",
        "cv_mean_nb, cv_std_nb"
      ],
      "metadata": {
        "colab": {
          "base_uri": "https://localhost:8080/"
        },
        "id": "gdGzZ9aHYwaa",
        "outputId": "1957a19f-cf8d-4ba0-e6d4-299cfcfc6114"
      },
      "execution_count": 66,
      "outputs": [
        {
          "output_type": "execute_result",
          "data": {
            "text/plain": [
              "(0.8345528336165973, 0.017938256605871426)"
            ]
          },
          "metadata": {},
          "execution_count": 66
        }
      ]
    },
    {
      "cell_type": "markdown",
      "source": [
        "\n",
        "\n",
        "*   Mean Accuracy: Approximately 83.46%\n",
        "*   Standard Deviation: Approximately 1.79%\n",
        "\n"
      ],
      "metadata": {
        "id": "JAZFby_4ZlZl"
      }
    },
    {
      "cell_type": "markdown",
      "source": [
        "Summary:\n",
        "* Decision Tree Classifier: Mean Accuracy ~ 86.73%, Standard Deviation ~ 1.03%\n",
        "* Naive Bayes Classifier: Mean Accuracy ~ 83.46%, Standard Deviation ~ 1.79%"
      ],
      "metadata": {
        "id": "k4_x59sVZywH"
      }
    },
    {
      "cell_type": "markdown",
      "source": [
        "#### Outlier Removal using Z-Score & Train Models"
      ],
      "metadata": {
        "id": "Pen_WXMdasPf"
      }
    },
    {
      "cell_type": "markdown",
      "source": [
        "Outlier Remove using Z-Score"
      ],
      "metadata": {
        "id": "5_R7InlLbeyq"
      }
    },
    {
      "cell_type": "code",
      "source": [
        "# Re-importing the necessary libraries and data due to a reset in the code environment\n",
        "import pandas as pd\n",
        "import numpy as np\n",
        "from scipy import stats\n",
        "\n",
        "\n",
        "# Calculate z-scores to identify outliers\n",
        "z_scores = np.abs(stats.zscore(df.select_dtypes(include=[np.number])))\n",
        "\n",
        "# Get boolean array indicating the presence of outliers\n",
        "outliers = (z_scores > 3)\n",
        "\n",
        "# Count outliers per feature\n",
        "outliers_count = pd.DataFrame(outliers, columns=df.select_dtypes(include=[np.number]).columns).sum()\n",
        "\n",
        "outliers_count"
      ],
      "metadata": {
        "colab": {
          "base_uri": "https://localhost:8080/"
        },
        "id": "VFkIhC3SZsJi",
        "outputId": "b928ff02-6e62-413e-89a1-12a05f17f90c"
      },
      "execution_count": 67,
      "outputs": [
        {
          "output_type": "execute_result",
          "data": {
            "text/plain": [
              "age           44\n",
              "job            0\n",
              "marital        0\n",
              "education      0\n",
              "default       76\n",
              "balance       88\n",
              "housing        0\n",
              "loan           0\n",
              "contact        0\n",
              "day            0\n",
              "month          0\n",
              "duration      88\n",
              "campaign      87\n",
              "pdays        171\n",
              "previous      99\n",
              "poutcome       0\n",
              "y              0\n",
              "dtype: int64"
            ]
          },
          "metadata": {},
          "execution_count": 67
        }
      ]
    },
    {
      "cell_type": "code",
      "source": [
        "# Remove outliers from the data\n",
        "df_no_outliers = df[(z_scores < 3).all(axis=1)]\n",
        "\n",
        "# Check the shape of the new DataFrame to see how many rows were removed\n",
        "df.shape, df_no_outliers.shape\n"
      ],
      "metadata": {
        "colab": {
          "base_uri": "https://localhost:8080/"
        },
        "id": "Sl0XJPYdbscU",
        "outputId": "7adde78c-fed2-43c5-f173-6266780f5a61"
      },
      "execution_count": 68,
      "outputs": [
        {
          "output_type": "execute_result",
          "data": {
            "text/plain": [
              "((4521, 17), (3908, 17))"
            ]
          },
          "metadata": {},
          "execution_count": 68
        }
      ]
    },
    {
      "cell_type": "markdown",
      "source": [
        "No outlier Data Preparations for Model Traning"
      ],
      "metadata": {
        "id": "XlObza7Nb1D-"
      }
    },
    {
      "cell_type": "code",
      "source": [
        "# Re-import the necessary libraries for data preparation\n",
        "from sklearn.model_selection import train_test_split\n",
        "from sklearn.preprocessing import StandardScaler, LabelEncoder\n",
        "\n",
        "# Re-identify the categorical columns for Label Encoding\n",
        "label_columns = df_no_outliers.select_dtypes(include=['object']).columns\n",
        "\n",
        "# Re-initialize the Label Encoder and Scaler\n",
        "label_encoder = LabelEncoder()\n",
        "scaler = StandardScaler()\n",
        "\n",
        "# Re-convert categorical variables to numerical form using Label Encoding\n",
        "for column in label_columns:\n",
        "    df_no_outliers[column] = label_encoder.fit_transform(df_no_outliers[column])\n",
        "\n",
        "# Re-separate features (X) and target variable (y)\n",
        "X_no_outliers = df_no_outliers.drop('y', axis=1)\n",
        "y_no_outliers = df_no_outliers['y']\n",
        "\n",
        "# Re-standardize the feature variables\n",
        "X_scaled_no_outliers = scaler.fit_transform(X_no_outliers)\n"
      ],
      "metadata": {
        "id": "n-F9ZPneb5MJ"
      },
      "execution_count": 69,
      "outputs": []
    },
    {
      "cell_type": "markdown",
      "source": [
        "Train Decision Tree Classifier & Naive Bayes Classifier without Outlier"
      ],
      "metadata": {
        "id": "VR_e-7X3cCp-"
      }
    },
    {
      "cell_type": "code",
      "source": [
        "# Re-import the necessary library for 10-Fold Cross-Validation\n",
        "from sklearn.model_selection import cross_val_score\n",
        "\n",
        "# Initialize the Decision Tree Classifier\n",
        "dt_model = DecisionTreeClassifier(random_state=42)\n",
        "\n",
        "# Initialize the Naive Bayes Classifier\n",
        "nb_model = GaussianNB()\n",
        "\n",
        "# Perform 10-Fold Cross-Validation on the new Decision Tree model\n",
        "cv_scores_dt_no_outliers = cross_val_score(dt_model, X_scaled_no_outliers, y_no_outliers, cv=10)\n",
        "\n",
        "# Calculate the mean and standard deviation of the cross-validation scores for the new Decision Tree model\n",
        "cv_mean_dt_no_outliers = np.mean(cv_scores_dt_no_outliers)\n",
        "cv_std_dt_no_outliers = np.std(cv_scores_dt_no_outliers)\n",
        "\n",
        "# Perform 10-Fold Cross-Validation on the new Naive Bayes model\n",
        "cv_scores_nb_no_outliers = cross_val_score(nb_model, X_scaled_no_outliers, y_no_outliers, cv=10)\n",
        "\n",
        "# Calculate the mean and standard deviation of the cross-validation scores for the new Naive Bayes model\n",
        "cv_mean_nb_no_outliers = np.mean(cv_scores_nb_no_outliers)\n",
        "cv_std_nb_no_outliers = np.std(cv_scores_nb_no_outliers)\n",
        "\n",
        "cv_mean_dt_no_outliers, cv_std_dt_no_outliers, cv_mean_nb_no_outliers, cv_std_nb_no_outliers\n"
      ],
      "metadata": {
        "colab": {
          "base_uri": "https://localhost:8080/"
        },
        "id": "Uc_C8mcJcLfi",
        "outputId": "e16f3494-6915-4a84-edd0-68bec007fbc2"
      },
      "execution_count": 70,
      "outputs": [
        {
          "output_type": "execute_result",
          "data": {
            "text/plain": [
              "(0.8710308872712966,\n",
              " 0.01428552223865972,\n",
              " 0.8469748835989245,\n",
              " 0.023024169206089455)"
            ]
          },
          "metadata": {},
          "execution_count": 70
        }
      ]
    },
    {
      "cell_type": "markdown",
      "source": [
        "**New Models with No Outliers:**\n",
        "\n",
        "**Decision Tree Classifier:**\n",
        "* Mean Accuracy: ~87.09%\n",
        "* Standard Deviation: ~0.14%\n",
        "\n",
        "**Naive Bayes Classifier:**\n",
        "* Mean Accuracy: ~84.70%\n",
        "* Standard Deviation: ~0.23%\n",
        "\n",
        "\n",
        "\n",
        "---\n",
        "\n",
        "\n",
        "**Intial Models:**\n",
        "\n",
        "**Decision Tree Classifier:**\n",
        "* Mean Accuracy: ~86.73%\n",
        "* Standard Deviation: ~1.03%\n",
        "\n",
        "**Naive Bayes Classifier:**\n",
        "* Mean Accuracy: ~83.46%\n",
        "* Standard Deviation: ~1.79%\n",
        "\n",
        "\n",
        "---\n",
        "\n",
        "**Observations:** Score have been improved after removed outliers"
      ],
      "metadata": {
        "id": "mIpQecIydBP_"
      }
    },
    {
      "cell_type": "markdown",
      "source": [
        "#### Retraining Models with Top Features (Before Outlier Removed Data)"
      ],
      "metadata": {
        "id": "zgikGJ7IgFNe"
      }
    },
    {
      "cell_type": "markdown",
      "source": [
        "Find out the important features before outlier removed (initial dataset)"
      ],
      "metadata": {
        "id": "6iyUAdet033m"
      }
    },
    {
      "cell_type": "code",
      "source": [
        "from sklearn.ensemble import RandomForestClassifier\n",
        "from sklearn.preprocessing import LabelEncoder\n",
        "\n",
        "# Prepare the data for training\n",
        "# Convert categorical variables to numerical using Label Encoding\n",
        "label_columns = df.select_dtypes(include=['object']).columns\n",
        "df_encoded = df.copy()\n",
        "label_encoder = LabelEncoder()\n",
        "for column in label_columns:\n",
        "    df_encoded[column] = label_encoder.fit_transform(df[column])\n",
        "\n",
        "# Separate features and target variable\n",
        "X = df_encoded.drop('y', axis=1)\n",
        "y = df_encoded['y']\n",
        "\n",
        "# Create a RandomForestClassifier model\n",
        "rf_model = RandomForestClassifier(random_state=42)\n",
        "\n",
        "# Fit the model\n",
        "rf_model.fit(X, y)\n",
        "\n",
        "# Get feature importances\n",
        "feature_importances = rf_model.feature_importances_\n",
        "\n",
        "# Create a DataFrame for feature importances\n",
        "feature_importance_df = pd.DataFrame({'Feature': X.columns, 'Importance': feature_importances})\n",
        "\n",
        "# Sort the features by importance\n",
        "feature_importance_df = feature_importance_df.sort_values('Importance', ascending=False)\n",
        "\n",
        "\n",
        "feature_importance_df\n"
      ],
      "metadata": {
        "colab": {
          "base_uri": "https://localhost:8080/",
          "height": 551
        },
        "id": "YpPxOu_j_UU8",
        "outputId": "f831bbf6-0bee-4473-c494-cf3f3574c887"
      },
      "execution_count": 71,
      "outputs": [
        {
          "output_type": "execute_result",
          "data": {
            "text/plain": [
              "      Feature  Importance\n",
              "11   duration    0.290557\n",
              "5     balance    0.105800\n",
              "0         age    0.105436\n",
              "9         day    0.092174\n",
              "10      month    0.083508\n",
              "13      pdays    0.052059\n",
              "1         job    0.050703\n",
              "15   poutcome    0.045556\n",
              "12   campaign    0.038802\n",
              "3   education    0.030945\n",
              "2     marital    0.026509\n",
              "14   previous    0.024418\n",
              "8     contact    0.020233\n",
              "6     housing    0.019912\n",
              "7        loan    0.010178\n",
              "4     default    0.003211"
            ],
            "text/html": [
              "\n",
              "  <div id=\"df-44e7cb5b-7326-448c-968b-7a953bbce1ad\" class=\"colab-df-container\">\n",
              "    <div>\n",
              "<style scoped>\n",
              "    .dataframe tbody tr th:only-of-type {\n",
              "        vertical-align: middle;\n",
              "    }\n",
              "\n",
              "    .dataframe tbody tr th {\n",
              "        vertical-align: top;\n",
              "    }\n",
              "\n",
              "    .dataframe thead th {\n",
              "        text-align: right;\n",
              "    }\n",
              "</style>\n",
              "<table border=\"1\" class=\"dataframe\">\n",
              "  <thead>\n",
              "    <tr style=\"text-align: right;\">\n",
              "      <th></th>\n",
              "      <th>Feature</th>\n",
              "      <th>Importance</th>\n",
              "    </tr>\n",
              "  </thead>\n",
              "  <tbody>\n",
              "    <tr>\n",
              "      <th>11</th>\n",
              "      <td>duration</td>\n",
              "      <td>0.290557</td>\n",
              "    </tr>\n",
              "    <tr>\n",
              "      <th>5</th>\n",
              "      <td>balance</td>\n",
              "      <td>0.105800</td>\n",
              "    </tr>\n",
              "    <tr>\n",
              "      <th>0</th>\n",
              "      <td>age</td>\n",
              "      <td>0.105436</td>\n",
              "    </tr>\n",
              "    <tr>\n",
              "      <th>9</th>\n",
              "      <td>day</td>\n",
              "      <td>0.092174</td>\n",
              "    </tr>\n",
              "    <tr>\n",
              "      <th>10</th>\n",
              "      <td>month</td>\n",
              "      <td>0.083508</td>\n",
              "    </tr>\n",
              "    <tr>\n",
              "      <th>13</th>\n",
              "      <td>pdays</td>\n",
              "      <td>0.052059</td>\n",
              "    </tr>\n",
              "    <tr>\n",
              "      <th>1</th>\n",
              "      <td>job</td>\n",
              "      <td>0.050703</td>\n",
              "    </tr>\n",
              "    <tr>\n",
              "      <th>15</th>\n",
              "      <td>poutcome</td>\n",
              "      <td>0.045556</td>\n",
              "    </tr>\n",
              "    <tr>\n",
              "      <th>12</th>\n",
              "      <td>campaign</td>\n",
              "      <td>0.038802</td>\n",
              "    </tr>\n",
              "    <tr>\n",
              "      <th>3</th>\n",
              "      <td>education</td>\n",
              "      <td>0.030945</td>\n",
              "    </tr>\n",
              "    <tr>\n",
              "      <th>2</th>\n",
              "      <td>marital</td>\n",
              "      <td>0.026509</td>\n",
              "    </tr>\n",
              "    <tr>\n",
              "      <th>14</th>\n",
              "      <td>previous</td>\n",
              "      <td>0.024418</td>\n",
              "    </tr>\n",
              "    <tr>\n",
              "      <th>8</th>\n",
              "      <td>contact</td>\n",
              "      <td>0.020233</td>\n",
              "    </tr>\n",
              "    <tr>\n",
              "      <th>6</th>\n",
              "      <td>housing</td>\n",
              "      <td>0.019912</td>\n",
              "    </tr>\n",
              "    <tr>\n",
              "      <th>7</th>\n",
              "      <td>loan</td>\n",
              "      <td>0.010178</td>\n",
              "    </tr>\n",
              "    <tr>\n",
              "      <th>4</th>\n",
              "      <td>default</td>\n",
              "      <td>0.003211</td>\n",
              "    </tr>\n",
              "  </tbody>\n",
              "</table>\n",
              "</div>\n",
              "    <div class=\"colab-df-buttons\">\n",
              "\n",
              "  <div class=\"colab-df-container\">\n",
              "    <button class=\"colab-df-convert\" onclick=\"convertToInteractive('df-44e7cb5b-7326-448c-968b-7a953bbce1ad')\"\n",
              "            title=\"Convert this dataframe to an interactive table.\"\n",
              "            style=\"display:none;\">\n",
              "\n",
              "  <svg xmlns=\"http://www.w3.org/2000/svg\" height=\"24px\" viewBox=\"0 -960 960 960\">\n",
              "    <path d=\"M120-120v-720h720v720H120Zm60-500h600v-160H180v160Zm220 220h160v-160H400v160Zm0 220h160v-160H400v160ZM180-400h160v-160H180v160Zm440 0h160v-160H620v160ZM180-180h160v-160H180v160Zm440 0h160v-160H620v160Z\"/>\n",
              "  </svg>\n",
              "    </button>\n",
              "\n",
              "  <style>\n",
              "    .colab-df-container {\n",
              "      display:flex;\n",
              "      gap: 12px;\n",
              "    }\n",
              "\n",
              "    .colab-df-convert {\n",
              "      background-color: #E8F0FE;\n",
              "      border: none;\n",
              "      border-radius: 50%;\n",
              "      cursor: pointer;\n",
              "      display: none;\n",
              "      fill: #1967D2;\n",
              "      height: 32px;\n",
              "      padding: 0 0 0 0;\n",
              "      width: 32px;\n",
              "    }\n",
              "\n",
              "    .colab-df-convert:hover {\n",
              "      background-color: #E2EBFA;\n",
              "      box-shadow: 0px 1px 2px rgba(60, 64, 67, 0.3), 0px 1px 3px 1px rgba(60, 64, 67, 0.15);\n",
              "      fill: #174EA6;\n",
              "    }\n",
              "\n",
              "    .colab-df-buttons div {\n",
              "      margin-bottom: 4px;\n",
              "    }\n",
              "\n",
              "    [theme=dark] .colab-df-convert {\n",
              "      background-color: #3B4455;\n",
              "      fill: #D2E3FC;\n",
              "    }\n",
              "\n",
              "    [theme=dark] .colab-df-convert:hover {\n",
              "      background-color: #434B5C;\n",
              "      box-shadow: 0px 1px 3px 1px rgba(0, 0, 0, 0.15);\n",
              "      filter: drop-shadow(0px 1px 2px rgba(0, 0, 0, 0.3));\n",
              "      fill: #FFFFFF;\n",
              "    }\n",
              "  </style>\n",
              "\n",
              "    <script>\n",
              "      const buttonEl =\n",
              "        document.querySelector('#df-44e7cb5b-7326-448c-968b-7a953bbce1ad button.colab-df-convert');\n",
              "      buttonEl.style.display =\n",
              "        google.colab.kernel.accessAllowed ? 'block' : 'none';\n",
              "\n",
              "      async function convertToInteractive(key) {\n",
              "        const element = document.querySelector('#df-44e7cb5b-7326-448c-968b-7a953bbce1ad');\n",
              "        const dataTable =\n",
              "          await google.colab.kernel.invokeFunction('convertToInteractive',\n",
              "                                                    [key], {});\n",
              "        if (!dataTable) return;\n",
              "\n",
              "        const docLinkHtml = 'Like what you see? Visit the ' +\n",
              "          '<a target=\"_blank\" href=https://colab.research.google.com/notebooks/data_table.ipynb>data table notebook</a>'\n",
              "          + ' to learn more about interactive tables.';\n",
              "        element.innerHTML = '';\n",
              "        dataTable['output_type'] = 'display_data';\n",
              "        await google.colab.output.renderOutput(dataTable, element);\n",
              "        const docLink = document.createElement('div');\n",
              "        docLink.innerHTML = docLinkHtml;\n",
              "        element.appendChild(docLink);\n",
              "      }\n",
              "    </script>\n",
              "  </div>\n",
              "\n",
              "\n",
              "<div id=\"df-1557d028-6098-4a35-861b-b874774b545b\">\n",
              "  <button class=\"colab-df-quickchart\" onclick=\"quickchart('df-1557d028-6098-4a35-861b-b874774b545b')\"\n",
              "            title=\"Suggest charts.\"\n",
              "            style=\"display:none;\">\n",
              "\n",
              "<svg xmlns=\"http://www.w3.org/2000/svg\" height=\"24px\"viewBox=\"0 0 24 24\"\n",
              "     width=\"24px\">\n",
              "    <g>\n",
              "        <path d=\"M19 3H5c-1.1 0-2 .9-2 2v14c0 1.1.9 2 2 2h14c1.1 0 2-.9 2-2V5c0-1.1-.9-2-2-2zM9 17H7v-7h2v7zm4 0h-2V7h2v10zm4 0h-2v-4h2v4z\"/>\n",
              "    </g>\n",
              "</svg>\n",
              "  </button>\n",
              "\n",
              "<style>\n",
              "  .colab-df-quickchart {\n",
              "      --bg-color: #E8F0FE;\n",
              "      --fill-color: #1967D2;\n",
              "      --hover-bg-color: #E2EBFA;\n",
              "      --hover-fill-color: #174EA6;\n",
              "      --disabled-fill-color: #AAA;\n",
              "      --disabled-bg-color: #DDD;\n",
              "  }\n",
              "\n",
              "  [theme=dark] .colab-df-quickchart {\n",
              "      --bg-color: #3B4455;\n",
              "      --fill-color: #D2E3FC;\n",
              "      --hover-bg-color: #434B5C;\n",
              "      --hover-fill-color: #FFFFFF;\n",
              "      --disabled-bg-color: #3B4455;\n",
              "      --disabled-fill-color: #666;\n",
              "  }\n",
              "\n",
              "  .colab-df-quickchart {\n",
              "    background-color: var(--bg-color);\n",
              "    border: none;\n",
              "    border-radius: 50%;\n",
              "    cursor: pointer;\n",
              "    display: none;\n",
              "    fill: var(--fill-color);\n",
              "    height: 32px;\n",
              "    padding: 0;\n",
              "    width: 32px;\n",
              "  }\n",
              "\n",
              "  .colab-df-quickchart:hover {\n",
              "    background-color: var(--hover-bg-color);\n",
              "    box-shadow: 0 1px 2px rgba(60, 64, 67, 0.3), 0 1px 3px 1px rgba(60, 64, 67, 0.15);\n",
              "    fill: var(--button-hover-fill-color);\n",
              "  }\n",
              "\n",
              "  .colab-df-quickchart-complete:disabled,\n",
              "  .colab-df-quickchart-complete:disabled:hover {\n",
              "    background-color: var(--disabled-bg-color);\n",
              "    fill: var(--disabled-fill-color);\n",
              "    box-shadow: none;\n",
              "  }\n",
              "\n",
              "  .colab-df-spinner {\n",
              "    border: 2px solid var(--fill-color);\n",
              "    border-color: transparent;\n",
              "    border-bottom-color: var(--fill-color);\n",
              "    animation:\n",
              "      spin 1s steps(1) infinite;\n",
              "  }\n",
              "\n",
              "  @keyframes spin {\n",
              "    0% {\n",
              "      border-color: transparent;\n",
              "      border-bottom-color: var(--fill-color);\n",
              "      border-left-color: var(--fill-color);\n",
              "    }\n",
              "    20% {\n",
              "      border-color: transparent;\n",
              "      border-left-color: var(--fill-color);\n",
              "      border-top-color: var(--fill-color);\n",
              "    }\n",
              "    30% {\n",
              "      border-color: transparent;\n",
              "      border-left-color: var(--fill-color);\n",
              "      border-top-color: var(--fill-color);\n",
              "      border-right-color: var(--fill-color);\n",
              "    }\n",
              "    40% {\n",
              "      border-color: transparent;\n",
              "      border-right-color: var(--fill-color);\n",
              "      border-top-color: var(--fill-color);\n",
              "    }\n",
              "    60% {\n",
              "      border-color: transparent;\n",
              "      border-right-color: var(--fill-color);\n",
              "    }\n",
              "    80% {\n",
              "      border-color: transparent;\n",
              "      border-right-color: var(--fill-color);\n",
              "      border-bottom-color: var(--fill-color);\n",
              "    }\n",
              "    90% {\n",
              "      border-color: transparent;\n",
              "      border-bottom-color: var(--fill-color);\n",
              "    }\n",
              "  }\n",
              "</style>\n",
              "\n",
              "  <script>\n",
              "    async function quickchart(key) {\n",
              "      const quickchartButtonEl =\n",
              "        document.querySelector('#' + key + ' button');\n",
              "      quickchartButtonEl.disabled = true;  // To prevent multiple clicks.\n",
              "      quickchartButtonEl.classList.add('colab-df-spinner');\n",
              "      try {\n",
              "        const charts = await google.colab.kernel.invokeFunction(\n",
              "            'suggestCharts', [key], {});\n",
              "      } catch (error) {\n",
              "        console.error('Error during call to suggestCharts:', error);\n",
              "      }\n",
              "      quickchartButtonEl.classList.remove('colab-df-spinner');\n",
              "      quickchartButtonEl.classList.add('colab-df-quickchart-complete');\n",
              "    }\n",
              "    (() => {\n",
              "      let quickchartButtonEl =\n",
              "        document.querySelector('#df-1557d028-6098-4a35-861b-b874774b545b button');\n",
              "      quickchartButtonEl.style.display =\n",
              "        google.colab.kernel.accessAllowed ? 'block' : 'none';\n",
              "    })();\n",
              "  </script>\n",
              "</div>\n",
              "    </div>\n",
              "  </div>\n"
            ]
          },
          "metadata": {},
          "execution_count": 71
        }
      ]
    },
    {
      "cell_type": "markdown",
      "source": [
        "**Most Important Features:**\n",
        "* Duration: This is the most important feature with an importance of approximately 0.29. This aligns with our earlier correlation analysis.\n",
        "* Balance and Age: These are also important features, each with an importance around 0.10.\n",
        "* Day and Month: These features have importance levels around 0.09 and 0.08, respectively.\n",
        "\n",
        "**Least Important Features:**\n",
        "* Default: This has the least importance, close to 0.003.\n",
        "* Loan: This feature also has a low importance, around 0.01."
      ],
      "metadata": {
        "id": "sZFWWkNOA4Lz"
      }
    },
    {
      "cell_type": "markdown",
      "source": [
        "Train Models with Top 10 Features"
      ],
      "metadata": {
        "id": "KJr78MfF1Ihm"
      }
    },
    {
      "cell_type": "code",
      "source": [
        "# Select the top 10 important features based on the feature scores\n",
        "top_features = feature_importance_df['Feature'][:10].tolist()\n",
        "\n",
        "# Create new training and testing sets with only the top important features\n",
        "X_train_top_features = pd.DataFrame(X_scaled, columns=X.columns)[top_features]\n",
        "\n",
        "# Initialize the Decision Tree Classifier\n",
        "dt_model = DecisionTreeClassifier(random_state=42)\n",
        "\n",
        "# Initialize the Naive Bayes Classifier\n",
        "nb_model = GaussianNB()\n",
        "\n",
        "# Perform 10-Fold Cross-Validation on the new Decision Tree model\n",
        "cv_scores_dt_top_features = cross_val_score(dt_model, X_train_top_features, y, cv=10)\n",
        "\n",
        "# Calculate the mean and standard deviation of the cross-validation scores for the new Decision Tree model\n",
        "cv_mean_dt_top_features = np.mean(cv_scores_dt_top_features)\n",
        "cv_std_dt_top_features = np.std(cv_scores_dt_top_features)\n",
        "\n",
        "# Perform 10-Fold Cross-Validation on the new Naive Bayes model\n",
        "cv_scores_nb_top_features = cross_val_score(nb_model, X_train_top_features, y, cv=10)\n",
        "\n",
        "# Calculate the mean and standard deviation of the cross-validation scores for the new Naive Bayes model\n",
        "cv_mean_nb_top_features = np.mean(cv_scores_nb_top_features)\n",
        "cv_std_nb_top_features = np.std(cv_scores_nb_top_features)\n",
        "\n",
        "cv_mean_dt_top_features, cv_std_dt_top_features, cv_mean_nb_top_features, cv_std_nb_top_features\n"
      ],
      "metadata": {
        "colab": {
          "base_uri": "https://localhost:8080/"
        },
        "id": "W9L0N3cY3LiW",
        "outputId": "1069cdac-9ae7-4330-ab18-bfd549984bbd"
      },
      "execution_count": 72,
      "outputs": [
        {
          "output_type": "execute_result",
          "data": {
            "text/plain": [
              "(0.862862626736213,\n",
              " 0.0144016057526754,\n",
              " 0.8522475531852546,\n",
              " 0.01958895278676839)"
            ]
          },
          "metadata": {},
          "execution_count": 72
        }
      ]
    },
    {
      "cell_type": "markdown",
      "source": [
        "#### Retraining with Top Features (After outlier removed)"
      ],
      "metadata": {
        "id": "tp1RdFF27PmO"
      }
    },
    {
      "cell_type": "markdown",
      "source": [
        "Find out the important features before outlier removed (After Outlier Removed)"
      ],
      "metadata": {
        "id": "eN3amkQiRAdQ"
      }
    },
    {
      "cell_type": "code",
      "source": [
        "from sklearn.ensemble import RandomForestClassifier\n",
        "from sklearn.preprocessing import LabelEncoder\n",
        "\n",
        "# Prepare the data for training\n",
        "# Convert categorical variables to numerical using Label Encoding\n",
        "label_columns = df_no_outliers.select_dtypes(include=['object']).columns\n",
        "\n",
        "df_encoded = df_no_outliers.copy()\n",
        "label_encoder = LabelEncoder()\n",
        "for column in label_columns:\n",
        "    df_encoded[column] = label_encoder.fit_transform(df_no_outliers[column])\n",
        "\n",
        "# Separate features and target variable\n",
        "X = df_encoded.drop('y', axis=1)\n",
        "y = df_encoded['y']\n",
        "\n",
        "# Create a RandomForestClassifier model\n",
        "rf_model = RandomForestClassifier(random_state=42)\n",
        "\n",
        "# Fit the model\n",
        "rf_model.fit(X, y)\n",
        "\n",
        "# Get feature importances\n",
        "feature_importances = rf_model.feature_importances_\n",
        "\n",
        "# Create a DataFrame for feature importances\n",
        "feature_importance_df = pd.DataFrame({'Feature': X.columns, 'Importance': feature_importances})\n",
        "\n",
        "# Sort the features by importance\n",
        "feature_importance_df = feature_importance_df.sort_values('Importance', ascending=False)\n",
        "\n",
        "feature_importance_df\n"
      ],
      "metadata": {
        "colab": {
          "base_uri": "https://localhost:8080/",
          "height": 551
        },
        "id": "OrFAepP_P7j8",
        "outputId": "0e09d978-a594-478e-b93a-f82c0a028d3b"
      },
      "execution_count": 73,
      "outputs": [
        {
          "output_type": "execute_result",
          "data": {
            "text/plain": [
              "      Feature  Importance\n",
              "11   duration    0.269735\n",
              "5     balance    0.118612\n",
              "0         age    0.102628\n",
              "9         day    0.101755\n",
              "10      month    0.087414\n",
              "1         job    0.053063\n",
              "15   poutcome    0.047885\n",
              "13      pdays    0.043582\n",
              "12   campaign    0.043517\n",
              "3   education    0.031151\n",
              "2     marital    0.025131\n",
              "6     housing    0.022791\n",
              "14   previous    0.022386\n",
              "8     contact    0.020466\n",
              "7        loan    0.009882\n",
              "4     default    0.000000"
            ],
            "text/html": [
              "\n",
              "  <div id=\"df-eb0f23c0-af66-4229-9b21-6c7b59cddd30\" class=\"colab-df-container\">\n",
              "    <div>\n",
              "<style scoped>\n",
              "    .dataframe tbody tr th:only-of-type {\n",
              "        vertical-align: middle;\n",
              "    }\n",
              "\n",
              "    .dataframe tbody tr th {\n",
              "        vertical-align: top;\n",
              "    }\n",
              "\n",
              "    .dataframe thead th {\n",
              "        text-align: right;\n",
              "    }\n",
              "</style>\n",
              "<table border=\"1\" class=\"dataframe\">\n",
              "  <thead>\n",
              "    <tr style=\"text-align: right;\">\n",
              "      <th></th>\n",
              "      <th>Feature</th>\n",
              "      <th>Importance</th>\n",
              "    </tr>\n",
              "  </thead>\n",
              "  <tbody>\n",
              "    <tr>\n",
              "      <th>11</th>\n",
              "      <td>duration</td>\n",
              "      <td>0.269735</td>\n",
              "    </tr>\n",
              "    <tr>\n",
              "      <th>5</th>\n",
              "      <td>balance</td>\n",
              "      <td>0.118612</td>\n",
              "    </tr>\n",
              "    <tr>\n",
              "      <th>0</th>\n",
              "      <td>age</td>\n",
              "      <td>0.102628</td>\n",
              "    </tr>\n",
              "    <tr>\n",
              "      <th>9</th>\n",
              "      <td>day</td>\n",
              "      <td>0.101755</td>\n",
              "    </tr>\n",
              "    <tr>\n",
              "      <th>10</th>\n",
              "      <td>month</td>\n",
              "      <td>0.087414</td>\n",
              "    </tr>\n",
              "    <tr>\n",
              "      <th>1</th>\n",
              "      <td>job</td>\n",
              "      <td>0.053063</td>\n",
              "    </tr>\n",
              "    <tr>\n",
              "      <th>15</th>\n",
              "      <td>poutcome</td>\n",
              "      <td>0.047885</td>\n",
              "    </tr>\n",
              "    <tr>\n",
              "      <th>13</th>\n",
              "      <td>pdays</td>\n",
              "      <td>0.043582</td>\n",
              "    </tr>\n",
              "    <tr>\n",
              "      <th>12</th>\n",
              "      <td>campaign</td>\n",
              "      <td>0.043517</td>\n",
              "    </tr>\n",
              "    <tr>\n",
              "      <th>3</th>\n",
              "      <td>education</td>\n",
              "      <td>0.031151</td>\n",
              "    </tr>\n",
              "    <tr>\n",
              "      <th>2</th>\n",
              "      <td>marital</td>\n",
              "      <td>0.025131</td>\n",
              "    </tr>\n",
              "    <tr>\n",
              "      <th>6</th>\n",
              "      <td>housing</td>\n",
              "      <td>0.022791</td>\n",
              "    </tr>\n",
              "    <tr>\n",
              "      <th>14</th>\n",
              "      <td>previous</td>\n",
              "      <td>0.022386</td>\n",
              "    </tr>\n",
              "    <tr>\n",
              "      <th>8</th>\n",
              "      <td>contact</td>\n",
              "      <td>0.020466</td>\n",
              "    </tr>\n",
              "    <tr>\n",
              "      <th>7</th>\n",
              "      <td>loan</td>\n",
              "      <td>0.009882</td>\n",
              "    </tr>\n",
              "    <tr>\n",
              "      <th>4</th>\n",
              "      <td>default</td>\n",
              "      <td>0.000000</td>\n",
              "    </tr>\n",
              "  </tbody>\n",
              "</table>\n",
              "</div>\n",
              "    <div class=\"colab-df-buttons\">\n",
              "\n",
              "  <div class=\"colab-df-container\">\n",
              "    <button class=\"colab-df-convert\" onclick=\"convertToInteractive('df-eb0f23c0-af66-4229-9b21-6c7b59cddd30')\"\n",
              "            title=\"Convert this dataframe to an interactive table.\"\n",
              "            style=\"display:none;\">\n",
              "\n",
              "  <svg xmlns=\"http://www.w3.org/2000/svg\" height=\"24px\" viewBox=\"0 -960 960 960\">\n",
              "    <path d=\"M120-120v-720h720v720H120Zm60-500h600v-160H180v160Zm220 220h160v-160H400v160Zm0 220h160v-160H400v160ZM180-400h160v-160H180v160Zm440 0h160v-160H620v160ZM180-180h160v-160H180v160Zm440 0h160v-160H620v160Z\"/>\n",
              "  </svg>\n",
              "    </button>\n",
              "\n",
              "  <style>\n",
              "    .colab-df-container {\n",
              "      display:flex;\n",
              "      gap: 12px;\n",
              "    }\n",
              "\n",
              "    .colab-df-convert {\n",
              "      background-color: #E8F0FE;\n",
              "      border: none;\n",
              "      border-radius: 50%;\n",
              "      cursor: pointer;\n",
              "      display: none;\n",
              "      fill: #1967D2;\n",
              "      height: 32px;\n",
              "      padding: 0 0 0 0;\n",
              "      width: 32px;\n",
              "    }\n",
              "\n",
              "    .colab-df-convert:hover {\n",
              "      background-color: #E2EBFA;\n",
              "      box-shadow: 0px 1px 2px rgba(60, 64, 67, 0.3), 0px 1px 3px 1px rgba(60, 64, 67, 0.15);\n",
              "      fill: #174EA6;\n",
              "    }\n",
              "\n",
              "    .colab-df-buttons div {\n",
              "      margin-bottom: 4px;\n",
              "    }\n",
              "\n",
              "    [theme=dark] .colab-df-convert {\n",
              "      background-color: #3B4455;\n",
              "      fill: #D2E3FC;\n",
              "    }\n",
              "\n",
              "    [theme=dark] .colab-df-convert:hover {\n",
              "      background-color: #434B5C;\n",
              "      box-shadow: 0px 1px 3px 1px rgba(0, 0, 0, 0.15);\n",
              "      filter: drop-shadow(0px 1px 2px rgba(0, 0, 0, 0.3));\n",
              "      fill: #FFFFFF;\n",
              "    }\n",
              "  </style>\n",
              "\n",
              "    <script>\n",
              "      const buttonEl =\n",
              "        document.querySelector('#df-eb0f23c0-af66-4229-9b21-6c7b59cddd30 button.colab-df-convert');\n",
              "      buttonEl.style.display =\n",
              "        google.colab.kernel.accessAllowed ? 'block' : 'none';\n",
              "\n",
              "      async function convertToInteractive(key) {\n",
              "        const element = document.querySelector('#df-eb0f23c0-af66-4229-9b21-6c7b59cddd30');\n",
              "        const dataTable =\n",
              "          await google.colab.kernel.invokeFunction('convertToInteractive',\n",
              "                                                    [key], {});\n",
              "        if (!dataTable) return;\n",
              "\n",
              "        const docLinkHtml = 'Like what you see? Visit the ' +\n",
              "          '<a target=\"_blank\" href=https://colab.research.google.com/notebooks/data_table.ipynb>data table notebook</a>'\n",
              "          + ' to learn more about interactive tables.';\n",
              "        element.innerHTML = '';\n",
              "        dataTable['output_type'] = 'display_data';\n",
              "        await google.colab.output.renderOutput(dataTable, element);\n",
              "        const docLink = document.createElement('div');\n",
              "        docLink.innerHTML = docLinkHtml;\n",
              "        element.appendChild(docLink);\n",
              "      }\n",
              "    </script>\n",
              "  </div>\n",
              "\n",
              "\n",
              "<div id=\"df-f921bb19-340c-44ae-b74f-b2d997d3053f\">\n",
              "  <button class=\"colab-df-quickchart\" onclick=\"quickchart('df-f921bb19-340c-44ae-b74f-b2d997d3053f')\"\n",
              "            title=\"Suggest charts.\"\n",
              "            style=\"display:none;\">\n",
              "\n",
              "<svg xmlns=\"http://www.w3.org/2000/svg\" height=\"24px\"viewBox=\"0 0 24 24\"\n",
              "     width=\"24px\">\n",
              "    <g>\n",
              "        <path d=\"M19 3H5c-1.1 0-2 .9-2 2v14c0 1.1.9 2 2 2h14c1.1 0 2-.9 2-2V5c0-1.1-.9-2-2-2zM9 17H7v-7h2v7zm4 0h-2V7h2v10zm4 0h-2v-4h2v4z\"/>\n",
              "    </g>\n",
              "</svg>\n",
              "  </button>\n",
              "\n",
              "<style>\n",
              "  .colab-df-quickchart {\n",
              "      --bg-color: #E8F0FE;\n",
              "      --fill-color: #1967D2;\n",
              "      --hover-bg-color: #E2EBFA;\n",
              "      --hover-fill-color: #174EA6;\n",
              "      --disabled-fill-color: #AAA;\n",
              "      --disabled-bg-color: #DDD;\n",
              "  }\n",
              "\n",
              "  [theme=dark] .colab-df-quickchart {\n",
              "      --bg-color: #3B4455;\n",
              "      --fill-color: #D2E3FC;\n",
              "      --hover-bg-color: #434B5C;\n",
              "      --hover-fill-color: #FFFFFF;\n",
              "      --disabled-bg-color: #3B4455;\n",
              "      --disabled-fill-color: #666;\n",
              "  }\n",
              "\n",
              "  .colab-df-quickchart {\n",
              "    background-color: var(--bg-color);\n",
              "    border: none;\n",
              "    border-radius: 50%;\n",
              "    cursor: pointer;\n",
              "    display: none;\n",
              "    fill: var(--fill-color);\n",
              "    height: 32px;\n",
              "    padding: 0;\n",
              "    width: 32px;\n",
              "  }\n",
              "\n",
              "  .colab-df-quickchart:hover {\n",
              "    background-color: var(--hover-bg-color);\n",
              "    box-shadow: 0 1px 2px rgba(60, 64, 67, 0.3), 0 1px 3px 1px rgba(60, 64, 67, 0.15);\n",
              "    fill: var(--button-hover-fill-color);\n",
              "  }\n",
              "\n",
              "  .colab-df-quickchart-complete:disabled,\n",
              "  .colab-df-quickchart-complete:disabled:hover {\n",
              "    background-color: var(--disabled-bg-color);\n",
              "    fill: var(--disabled-fill-color);\n",
              "    box-shadow: none;\n",
              "  }\n",
              "\n",
              "  .colab-df-spinner {\n",
              "    border: 2px solid var(--fill-color);\n",
              "    border-color: transparent;\n",
              "    border-bottom-color: var(--fill-color);\n",
              "    animation:\n",
              "      spin 1s steps(1) infinite;\n",
              "  }\n",
              "\n",
              "  @keyframes spin {\n",
              "    0% {\n",
              "      border-color: transparent;\n",
              "      border-bottom-color: var(--fill-color);\n",
              "      border-left-color: var(--fill-color);\n",
              "    }\n",
              "    20% {\n",
              "      border-color: transparent;\n",
              "      border-left-color: var(--fill-color);\n",
              "      border-top-color: var(--fill-color);\n",
              "    }\n",
              "    30% {\n",
              "      border-color: transparent;\n",
              "      border-left-color: var(--fill-color);\n",
              "      border-top-color: var(--fill-color);\n",
              "      border-right-color: var(--fill-color);\n",
              "    }\n",
              "    40% {\n",
              "      border-color: transparent;\n",
              "      border-right-color: var(--fill-color);\n",
              "      border-top-color: var(--fill-color);\n",
              "    }\n",
              "    60% {\n",
              "      border-color: transparent;\n",
              "      border-right-color: var(--fill-color);\n",
              "    }\n",
              "    80% {\n",
              "      border-color: transparent;\n",
              "      border-right-color: var(--fill-color);\n",
              "      border-bottom-color: var(--fill-color);\n",
              "    }\n",
              "    90% {\n",
              "      border-color: transparent;\n",
              "      border-bottom-color: var(--fill-color);\n",
              "    }\n",
              "  }\n",
              "</style>\n",
              "\n",
              "  <script>\n",
              "    async function quickchart(key) {\n",
              "      const quickchartButtonEl =\n",
              "        document.querySelector('#' + key + ' button');\n",
              "      quickchartButtonEl.disabled = true;  // To prevent multiple clicks.\n",
              "      quickchartButtonEl.classList.add('colab-df-spinner');\n",
              "      try {\n",
              "        const charts = await google.colab.kernel.invokeFunction(\n",
              "            'suggestCharts', [key], {});\n",
              "      } catch (error) {\n",
              "        console.error('Error during call to suggestCharts:', error);\n",
              "      }\n",
              "      quickchartButtonEl.classList.remove('colab-df-spinner');\n",
              "      quickchartButtonEl.classList.add('colab-df-quickchart-complete');\n",
              "    }\n",
              "    (() => {\n",
              "      let quickchartButtonEl =\n",
              "        document.querySelector('#df-f921bb19-340c-44ae-b74f-b2d997d3053f button');\n",
              "      quickchartButtonEl.style.display =\n",
              "        google.colab.kernel.accessAllowed ? 'block' : 'none';\n",
              "    })();\n",
              "  </script>\n",
              "</div>\n",
              "    </div>\n",
              "  </div>\n"
            ]
          },
          "metadata": {},
          "execution_count": 73
        }
      ]
    },
    {
      "cell_type": "markdown",
      "source": [
        "**Observations:**\n",
        "\n",
        "**Before Handling Outliers:**\n",
        "Duration had the highest importance score (0.290557).\n",
        "Default had the lowest importance score (0.003211).\n",
        "\n",
        "**After Handling Outliers:**\n",
        "Duration still has the highest score, but it's a bit lower (0.274582).\n",
        "Default still has the lowest score but it's a bit higher (0.004136).\n",
        "\n",
        "**What Changed?**\n",
        "Balance, Day, and Job became more important after removing outliers.\n",
        "Pdays, Poutcome, and Age became a bit less important."
      ],
      "metadata": {
        "id": "VATnPjzNRFzv"
      }
    },
    {
      "cell_type": "markdown",
      "source": [
        "Train Models with Top 10 Features & Outlier Removed Dataset"
      ],
      "metadata": {
        "id": "IcwL1qOH7sWf"
      }
    },
    {
      "cell_type": "code",
      "source": [
        "# Select the top 10 important features based on the feature scores\n",
        "top_features = feature_importance_df['Feature'][:10].tolist()\n",
        "\n",
        "# Create new training and testing sets with only the top important features\n",
        "X_train_top_features_outlier_rm = pd.DataFrame(X_scaled_no_outliers, columns=X.columns)[top_features]\n",
        "\n",
        "# Initialize the Decision Tree Classifier\n",
        "dt_model = DecisionTreeClassifier(random_state=42)\n",
        "\n",
        "# Initialize the Naive Bayes Classifier\n",
        "nb_model = GaussianNB()\n",
        "\n",
        "# Perform 10-Fold Cross-Validation on the new Decision Tree model\n",
        "cv_scores_dt_top_features = cross_val_score(dt_model, X_train_top_features_outlier_rm, y, cv=10)\n",
        "\n",
        "# Calculate the mean and standard deviation of the cross-validation scores for the new Decision Tree model\n",
        "cv_mean_dt_top_features = np.mean(cv_scores_dt_top_features)\n",
        "cv_std_dt_top_features = np.std(cv_scores_dt_top_features)\n",
        "\n",
        "# Perform 10-Fold Cross-Validation on the new Naive Bayes model\n",
        "cv_scores_nb_top_features = cross_val_score(nb_model, X_train_top_features_outlier_rm, y, cv=10)\n",
        "\n",
        "# Calculate the mean and standard deviation of the cross-validation scores for the new Naive Bayes model\n",
        "cv_mean_nb_top_features = np.mean(cv_scores_nb_top_features)\n",
        "cv_std_nb_top_features = np.std(cv_scores_nb_top_features)\n",
        "\n",
        "cv_mean_dt_top_features, cv_std_dt_top_features, cv_mean_nb_top_features, cv_std_nb_top_features\n"
      ],
      "metadata": {
        "colab": {
          "base_uri": "https://localhost:8080/"
        },
        "id": "v57YuvVa7lqW",
        "outputId": "53e49298-51a2-4e6d-fac9-5033597be95d"
      },
      "execution_count": 74,
      "outputs": [
        {
          "output_type": "execute_result",
          "data": {
            "text/plain": [
              "(0.8743556954554398,\n",
              " 0.013705997897794798,\n",
              " 0.8600268870089843,\n",
              " 0.02511212961936939)"
            ]
          },
          "metadata": {},
          "execution_count": 74
        }
      ]
    },
    {
      "cell_type": "markdown",
      "source": [
        "**Models with Top 10 features with Outlier Removed:**\n",
        "\n",
        "**Decision Tree Classifier:**\n",
        "* Mean Accuracy: ~87.44%\n",
        "* Standard Deviation: ~0.13%\n",
        "\n",
        "**Naive Bayes Classifier:**\n",
        "* Mean Accuracy: ~86.00%\n",
        "* Standard Deviation: ~0.25%\n",
        "\n",
        "\n",
        "\n",
        "---\n",
        "\n",
        "\n",
        "**Models with Top 10 features without Outlier Removed:**\n",
        "\n",
        "\n",
        "**Decision Tree Classifier:**\n",
        "* Mean Accuracy: ~86.37%\n",
        "* Standard Deviation: ~0.13%\n",
        "\n",
        "**Naive Bayes Classifier:**\n",
        "* Mean Accuracy: ~85.22%\n",
        "* Standard Deviation: ~0.19%\n",
        "\n",
        "\n",
        "---\n",
        "\n",
        "**Observations:** Score have been improved after removed outliers"
      ],
      "metadata": {
        "id": "fo6cNaHm9_Po"
      }
    },
    {
      "cell_type": "markdown",
      "source": [
        "#### Ensemble Two Model on Top 10 features of outlier removed dataset"
      ],
      "metadata": {
        "id": "lLhEEHHQB_Ri"
      }
    },
    {
      "cell_type": "code",
      "source": [
        "from sklearn.ensemble import VotingClassifier\n",
        "\n",
        "# Initialize the Decision Tree Classifier\n",
        "dt_model = DecisionTreeClassifier(random_state=42)\n",
        "\n",
        "# Initialize the Naive Bayes Classifier\n",
        "nb_model = GaussianNB()\n",
        "\n",
        "# Initialize the ensemble model with Decision Tree and Naive Bayes\n",
        "ensemble_model = VotingClassifier(estimators=[('dt', dt_model), ('nb', nb_model)],\n",
        "                                  voting='soft',\n",
        "                                  weights=[2, 1])\n",
        "\n",
        "# Train the ensemble model on the training data with top features\n",
        "# ensemble_model.fit(X_train_top_features, y_train_no_outliers)\n",
        "\n",
        "# Perform 10-Fold Cross-Validation on the ensemble model\n",
        "cv_scores_ensemble = cross_val_score(ensemble_model, X_train_top_features_outlier_rm, y, cv=10)\n",
        "\n",
        "# Calculate the mean and standard deviation of the cross-validation scores for the ensemble model\n",
        "cv_mean_ensemble = np.mean(cv_scores_ensemble)\n",
        "cv_std_ensemble = np.std(cv_scores_ensemble)\n",
        "\n",
        "cv_mean_ensemble, cv_std_ensemble\n"
      ],
      "metadata": {
        "colab": {
          "base_uri": "https://localhost:8080/"
        },
        "id": "_TGkToLy9tO7",
        "outputId": "74743348-63a9-4990-f638-1dc3fa5b6a8a"
      },
      "execution_count": 75,
      "outputs": [
        {
          "output_type": "execute_result",
          "data": {
            "text/plain": [
              "(0.8743556954554398, 0.013705997897794798)"
            ]
          },
          "metadata": {},
          "execution_count": 75
        }
      ]
    },
    {
      "cell_type": "markdown",
      "source": [
        "#### Models Hyper-parameters tunining with Optuna Framework"
      ],
      "metadata": {
        "id": "Yz-6TlJ0GgbJ"
      }
    },
    {
      "cell_type": "code",
      "source": [
        "pip install optuna"
      ],
      "metadata": {
        "colab": {
          "base_uri": "https://localhost:8080/"
        },
        "id": "EJh-1Gi3FtvC",
        "outputId": "81c47291-e5b3-4746-c933-4cddd383868b"
      },
      "execution_count": 76,
      "outputs": [
        {
          "output_type": "stream",
          "name": "stdout",
          "text": [
            "Requirement already satisfied: optuna in /usr/local/lib/python3.10/dist-packages (3.4.0)\n",
            "Requirement already satisfied: alembic>=1.5.0 in /usr/local/lib/python3.10/dist-packages (from optuna) (1.12.1)\n",
            "Requirement already satisfied: colorlog in /usr/local/lib/python3.10/dist-packages (from optuna) (6.7.0)\n",
            "Requirement already satisfied: numpy in /usr/local/lib/python3.10/dist-packages (from optuna) (1.23.5)\n",
            "Requirement already satisfied: packaging>=20.0 in /usr/local/lib/python3.10/dist-packages (from optuna) (23.2)\n",
            "Requirement already satisfied: sqlalchemy>=1.3.0 in /usr/local/lib/python3.10/dist-packages (from optuna) (2.0.22)\n",
            "Requirement already satisfied: tqdm in /usr/local/lib/python3.10/dist-packages (from optuna) (4.66.1)\n",
            "Requirement already satisfied: PyYAML in /usr/local/lib/python3.10/dist-packages (from optuna) (6.0.1)\n",
            "Requirement already satisfied: Mako in /usr/local/lib/python3.10/dist-packages (from alembic>=1.5.0->optuna) (1.2.4)\n",
            "Requirement already satisfied: typing-extensions>=4 in /usr/local/lib/python3.10/dist-packages (from alembic>=1.5.0->optuna) (4.5.0)\n",
            "Requirement already satisfied: greenlet!=0.4.17 in /usr/local/lib/python3.10/dist-packages (from sqlalchemy>=1.3.0->optuna) (3.0.0)\n",
            "Requirement already satisfied: MarkupSafe>=0.9.2 in /usr/local/lib/python3.10/dist-packages (from Mako->alembic>=1.5.0->optuna) (2.1.3)\n"
          ]
        }
      ]
    },
    {
      "cell_type": "code",
      "source": [
        "import optuna\n",
        "from sklearn.model_selection import StratifiedKFold, cross_val_score\n",
        "\n",
        "def objective(trial):\n",
        "    # Specify the hyperparameter space\n",
        "    classifier_name = trial.suggest_categorical('classifier', ['DecisionTree', 'NaiveBayes'])\n",
        "\n",
        "    # Initialize k-Fold cross-validation\n",
        "    kfold = StratifiedKFold(n_splits=10, shuffle=True, random_state=42)\n",
        "\n",
        "    if classifier_name == 'DecisionTree':\n",
        "        criterion = trial.suggest_categorical('criterion', ['gini', 'entropy'])\n",
        "        max_depth = trial.suggest_int('max_depth', 10, 50)\n",
        "        min_samples_split = trial.suggest_int('min_samples_split', 2, 15)\n",
        "        min_samples_leaf = trial.suggest_int('min_samples_leaf', 1, 10)\n",
        "\n",
        "        classifier_obj = DecisionTreeClassifier(\n",
        "            criterion=criterion, max_depth=max_depth,\n",
        "            min_samples_split=min_samples_split, min_samples_leaf=min_samples_leaf\n",
        "        )\n",
        "    else:\n",
        "        var_smoothing = trial.suggest_float('var_smoothing', 1e-10, 1e-2, log=True)\n",
        "\n",
        "        classifier_obj = GaussianNB(var_smoothing=var_smoothing)\n",
        "\n",
        "    # Perform k-Fold cross-validation\n",
        "    scores = cross_val_score(classifier_obj, X_train_top_features_outlier_rm, y, cv=kfold)\n",
        "\n",
        "    # Return the mean of cross-validation scores as a metric to be optimized\n",
        "    return scores.mean()\n",
        "\n",
        "# Create a study object and specify the direction is maximize.\n",
        "study = optuna.create_study(direction='maximize')\n",
        "study.optimize(objective, n_trials=50)\n"
      ],
      "metadata": {
        "colab": {
          "base_uri": "https://localhost:8080/"
        },
        "id": "-qPCnKorFqng",
        "outputId": "cdaa5a83-6cbb-458f-8a0a-a8cf82d2e1f2"
      },
      "execution_count": 77,
      "outputs": [
        {
          "output_type": "stream",
          "name": "stderr",
          "text": [
            "[I 2023-10-31 12:51:11,592] A new study created in memory with name: no-name-f6222b0c-ab14-4e7c-8b5c-caf1677b221e\n",
            "[I 2023-10-31 12:51:11,759] Trial 0 finished with value: 0.8889441930618401 and parameters: {'classifier': 'DecisionTree', 'criterion': 'gini', 'max_depth': 46, 'min_samples_split': 3, 'min_samples_leaf': 5}. Best is trial 0 with value: 0.8889441930618401.\n",
            "[I 2023-10-31 12:51:11,798] Trial 1 finished with value: 0.8590071480097056 and parameters: {'classifier': 'NaiveBayes', 'var_smoothing': 0.00034902452981797635}. Best is trial 0 with value: 0.8889441930618401.\n",
            "[I 2023-10-31 12:51:11,836] Trial 2 finished with value: 0.8590071480097056 and parameters: {'classifier': 'NaiveBayes', 'var_smoothing': 3.832400703329542e-08}. Best is trial 0 with value: 0.8889441930618401.\n",
            "[I 2023-10-31 12:51:11,872] Trial 3 finished with value: 0.8590071480097056 and parameters: {'classifier': 'NaiveBayes', 'var_smoothing': 0.000124178719135687}. Best is trial 0 with value: 0.8889441930618401.\n",
            "[I 2023-10-31 12:51:12,047] Trial 4 finished with value: 0.8935523640894486 and parameters: {'classifier': 'DecisionTree', 'criterion': 'gini', 'max_depth': 44, 'min_samples_split': 13, 'min_samples_leaf': 3}. Best is trial 4 with value: 0.8935523640894486.\n",
            "[I 2023-10-31 12:51:12,199] Trial 5 finished with value: 0.8815273132664437 and parameters: {'classifier': 'DecisionTree', 'criterion': 'entropy', 'max_depth': 34, 'min_samples_split': 12, 'min_samples_leaf': 5}. Best is trial 4 with value: 0.8935523640894486.\n",
            "[I 2023-10-31 12:51:12,236] Trial 6 finished with value: 0.8590071480097056 and parameters: {'classifier': 'NaiveBayes', 'var_smoothing': 7.794209052421129e-05}. Best is trial 4 with value: 0.8935523640894486.\n",
            "[I 2023-10-31 12:51:12,392] Trial 7 finished with value: 0.8828073972063744 and parameters: {'classifier': 'DecisionTree', 'criterion': 'entropy', 'max_depth': 16, 'min_samples_split': 9, 'min_samples_leaf': 5}. Best is trial 4 with value: 0.8935523640894486.\n",
            "[I 2023-10-31 12:51:12,433] Trial 8 finished with value: 0.8590071480097056 and parameters: {'classifier': 'NaiveBayes', 'var_smoothing': 3.02315373226144e-09}. Best is trial 4 with value: 0.8935523640894486.\n",
            "[I 2023-10-31 12:51:12,594] Trial 9 finished with value: 0.8856187290969901 and parameters: {'classifier': 'DecisionTree', 'criterion': 'entropy', 'max_depth': 15, 'min_samples_split': 3, 'min_samples_leaf': 6}. Best is trial 4 with value: 0.8935523640894486.\n",
            "[I 2023-10-31 12:51:12,787] Trial 10 finished with value: 0.8904813430388879 and parameters: {'classifier': 'DecisionTree', 'criterion': 'gini', 'max_depth': 50, 'min_samples_split': 15, 'min_samples_leaf': 1}. Best is trial 4 with value: 0.8935523640894486.\n",
            "[I 2023-10-31 12:51:13,024] Trial 11 finished with value: 0.8899691783067742 and parameters: {'classifier': 'DecisionTree', 'criterion': 'gini', 'max_depth': 50, 'min_samples_split': 15, 'min_samples_leaf': 1}. Best is trial 4 with value: 0.8935523640894486.\n",
            "[I 2023-10-31 12:51:13,242] Trial 12 finished with value: 0.8909921962095876 and parameters: {'classifier': 'DecisionTree', 'criterion': 'gini', 'max_depth': 38, 'min_samples_split': 15, 'min_samples_leaf': 1}. Best is trial 4 with value: 0.8935523640894486.\n",
            "[I 2023-10-31 12:51:13,432] Trial 13 finished with value: 0.8938094301265658 and parameters: {'classifier': 'DecisionTree', 'criterion': 'gini', 'max_depth': 36, 'min_samples_split': 12, 'min_samples_leaf': 2}. Best is trial 13 with value: 0.8938094301265658.\n",
            "[I 2023-10-31 12:51:13,622] Trial 14 finished with value: 0.8909921962095876 and parameters: {'classifier': 'DecisionTree', 'criterion': 'gini', 'max_depth': 29, 'min_samples_split': 11, 'min_samples_leaf': 3}. Best is trial 13 with value: 0.8938094301265658.\n",
            "[I 2023-10-31 12:51:13,805] Trial 15 finished with value: 0.8973906485671191 and parameters: {'classifier': 'DecisionTree', 'criterion': 'gini', 'max_depth': 42, 'min_samples_split': 12, 'min_samples_leaf': 10}. Best is trial 15 with value: 0.8973906485671191.\n",
            "[I 2023-10-31 12:51:13,980] Trial 16 finished with value: 0.8973906485671191 and parameters: {'classifier': 'DecisionTree', 'criterion': 'gini', 'max_depth': 26, 'min_samples_split': 7, 'min_samples_leaf': 10}. Best is trial 15 with value: 0.8973906485671191.\n",
            "[I 2023-10-31 12:51:14,160] Trial 17 finished with value: 0.8979021575185259 and parameters: {'classifier': 'DecisionTree', 'criterion': 'gini', 'max_depth': 25, 'min_samples_split': 6, 'min_samples_leaf': 10}. Best is trial 17 with value: 0.8979021575185259.\n",
            "[I 2023-10-31 12:51:14,333] Trial 18 finished with value: 0.8973899927864123 and parameters: {'classifier': 'DecisionTree', 'criterion': 'gini', 'max_depth': 22, 'min_samples_split': 6, 'min_samples_leaf': 10}. Best is trial 17 with value: 0.8979021575185259.\n",
            "[I 2023-10-31 12:51:14,493] Trial 19 finished with value: 0.8943196275165585 and parameters: {'classifier': 'DecisionTree', 'criterion': 'entropy', 'max_depth': 23, 'min_samples_split': 9, 'min_samples_leaf': 8}. Best is trial 17 with value: 0.8979021575185259.\n",
            "[I 2023-10-31 12:51:14,675] Trial 20 finished with value: 0.9002105056069251 and parameters: {'classifier': 'DecisionTree', 'criterion': 'gini', 'max_depth': 42, 'min_samples_split': 5, 'min_samples_leaf': 8}. Best is trial 20 with value: 0.9002105056069251.\n",
            "[I 2023-10-31 12:51:14,851] Trial 21 finished with value: 0.9007200472162109 and parameters: {'classifier': 'DecisionTree', 'criterion': 'gini', 'max_depth': 41, 'min_samples_split': 5, 'min_samples_leaf': 8}. Best is trial 21 with value: 0.9007200472162109.\n",
            "[I 2023-10-31 12:51:15,026] Trial 22 finished with value: 0.9004642927405075 and parameters: {'classifier': 'DecisionTree', 'criterion': 'gini', 'max_depth': 32, 'min_samples_split': 5, 'min_samples_leaf': 8}. Best is trial 21 with value: 0.9007200472162109.\n",
            "[I 2023-10-31 12:51:15,200] Trial 23 finished with value: 0.8999540953505148 and parameters: {'classifier': 'DecisionTree', 'criterion': 'gini', 'max_depth': 32, 'min_samples_split': 4, 'min_samples_leaf': 8}. Best is trial 21 with value: 0.9007200472162109.\n",
            "[I 2023-10-31 12:51:15,379] Trial 24 finished with value: 0.9012322119483246 and parameters: {'classifier': 'DecisionTree', 'criterion': 'gini', 'max_depth': 40, 'min_samples_split': 5, 'min_samples_leaf': 8}. Best is trial 24 with value: 0.9012322119483246.\n",
            "[I 2023-10-31 12:51:15,556] Trial 25 finished with value: 0.8971362056528298 and parameters: {'classifier': 'DecisionTree', 'criterion': 'gini', 'max_depth': 37, 'min_samples_split': 2, 'min_samples_leaf': 7}. Best is trial 24 with value: 0.9012322119483246.\n",
            "[I 2023-10-31 12:51:15,597] Trial 26 finished with value: 0.8590071480097056 and parameters: {'classifier': 'NaiveBayes', 'var_smoothing': 1.1006384362190305e-10}. Best is trial 24 with value: 0.9012322119483246.\n",
            "[I 2023-10-31 12:51:15,836] Trial 27 finished with value: 0.8989277985441669 and parameters: {'classifier': 'DecisionTree', 'criterion': 'gini', 'max_depth': 39, 'min_samples_split': 7, 'min_samples_leaf': 7}. Best is trial 24 with value: 0.9012322119483246.\n",
            "[I 2023-10-31 12:51:16,021] Trial 28 finished with value: 0.8984162895927602 and parameters: {'classifier': 'DecisionTree', 'criterion': 'gini', 'max_depth': 31, 'min_samples_split': 5, 'min_samples_leaf': 9}. Best is trial 24 with value: 0.9012322119483246.\n",
            "[I 2023-10-31 12:51:16,190] Trial 29 finished with value: 0.891764050101646 and parameters: {'classifier': 'DecisionTree', 'criterion': 'entropy', 'max_depth': 40, 'min_samples_split': 8, 'min_samples_leaf': 7}. Best is trial 24 with value: 0.9012322119483246.\n",
            "[I 2023-10-31 12:51:16,364] Trial 30 finished with value: 0.8979060922027674 and parameters: {'classifier': 'DecisionTree', 'criterion': 'gini', 'max_depth': 46, 'min_samples_split': 4, 'min_samples_leaf': 9}. Best is trial 24 with value: 0.9012322119483246.\n",
            "[I 2023-10-31 12:51:16,536] Trial 31 finished with value: 0.8994412748376943 and parameters: {'classifier': 'DecisionTree', 'criterion': 'gini', 'max_depth': 43, 'min_samples_split': 5, 'min_samples_leaf': 8}. Best is trial 24 with value: 0.9012322119483246.\n",
            "[I 2023-10-31 12:51:16,710] Trial 32 finished with value: 0.8989291101055807 and parameters: {'classifier': 'DecisionTree', 'criterion': 'gini', 'max_depth': 34, 'min_samples_split': 5, 'min_samples_leaf': 9}. Best is trial 24 with value: 0.9012322119483246.\n",
            "[I 2023-10-31 12:51:16,888] Trial 33 finished with value: 0.8943242179815071 and parameters: {'classifier': 'DecisionTree', 'criterion': 'gini', 'max_depth': 41, 'min_samples_split': 2, 'min_samples_leaf': 6}. Best is trial 24 with value: 0.9012322119483246.\n",
            "[I 2023-10-31 12:51:16,933] Trial 34 finished with value: 0.8592635582661158 and parameters: {'classifier': 'NaiveBayes', 'var_smoothing': 0.0053861147254822715}. Best is trial 24 with value: 0.9012322119483246.\n",
            "[I 2023-10-31 12:51:17,107] Trial 35 finished with value: 0.9002098498262182 and parameters: {'classifier': 'DecisionTree', 'criterion': 'gini', 'max_depth': 46, 'min_samples_split': 6, 'min_samples_leaf': 8}. Best is trial 24 with value: 0.9012322119483246.\n",
            "[I 2023-10-31 12:51:17,150] Trial 36 finished with value: 0.8590071480097056 and parameters: {'classifier': 'NaiveBayes', 'var_smoothing': 6.410425647498537e-07}. Best is trial 24 with value: 0.9012322119483246.\n",
            "[I 2023-10-31 12:51:17,324] Trial 37 finished with value: 0.8994379959341596 and parameters: {'classifier': 'DecisionTree', 'criterion': 'gini', 'max_depth': 35, 'min_samples_split': 4, 'min_samples_leaf': 7}. Best is trial 24 with value: 0.9012322119483246.\n",
            "[I 2023-10-31 12:51:17,493] Trial 38 finished with value: 0.89892714276346 and parameters: {'classifier': 'DecisionTree', 'criterion': 'gini', 'max_depth': 47, 'min_samples_split': 3, 'min_samples_leaf': 9}. Best is trial 24 with value: 0.9012322119483246.\n",
            "[I 2023-10-31 12:51:17,534] Trial 39 finished with value: 0.8590071480097056 and parameters: {'classifier': 'NaiveBayes', 'var_smoothing': 2.521474060801227e-06}. Best is trial 24 with value: 0.9012322119483246.\n",
            "[I 2023-10-31 12:51:17,716] Trial 40 finished with value: 0.8948344153714999 and parameters: {'classifier': 'DecisionTree', 'criterion': 'gini', 'max_depth': 44, 'min_samples_split': 7, 'min_samples_leaf': 6}. Best is trial 24 with value: 0.9012322119483246.\n",
            "[I 2023-10-31 12:51:17,893] Trial 41 finished with value: 0.9002098498262182 and parameters: {'classifier': 'DecisionTree', 'criterion': 'gini', 'max_depth': 46, 'min_samples_split': 6, 'min_samples_leaf': 8}. Best is trial 24 with value: 0.9012322119483246.\n",
            "[I 2023-10-31 12:51:18,072] Trial 42 finished with value: 0.9019994753754345 and parameters: {'classifier': 'DecisionTree', 'criterion': 'gini', 'max_depth': 47, 'min_samples_split': 5, 'min_samples_leaf': 8}. Best is trial 42 with value: 0.9019994753754345.\n",
            "[I 2023-10-31 12:51:18,249] Trial 43 finished with value: 0.8984162895927602 and parameters: {'classifier': 'DecisionTree', 'criterion': 'gini', 'max_depth': 41, 'min_samples_split': 4, 'min_samples_leaf': 7}. Best is trial 42 with value: 0.9019994753754345.\n",
            "[I 2023-10-31 12:51:18,414] Trial 44 finished with value: 0.893299232736573 and parameters: {'classifier': 'DecisionTree', 'criterion': 'entropy', 'max_depth': 49, 'min_samples_split': 5, 'min_samples_leaf': 9}. Best is trial 42 with value: 0.9019994753754345.\n",
            "[I 2023-10-31 12:51:18,592] Trial 45 finished with value: 0.9009771132533281 and parameters: {'classifier': 'DecisionTree', 'criterion': 'gini', 'max_depth': 44, 'min_samples_split': 8, 'min_samples_leaf': 8}. Best is trial 42 with value: 0.9019994753754345.\n",
            "[I 2023-10-31 12:51:18,780] Trial 46 finished with value: 0.8902229654403568 and parameters: {'classifier': 'DecisionTree', 'criterion': 'gini', 'max_depth': 44, 'min_samples_split': 10, 'min_samples_leaf': 4}. Best is trial 42 with value: 0.9019994753754345.\n",
            "[I 2023-10-31 12:51:18,824] Trial 47 finished with value: 0.8595199685225261 and parameters: {'classifier': 'NaiveBayes', 'var_smoothing': 0.007104814561804317}. Best is trial 42 with value: 0.9019994753754345.\n",
            "[I 2023-10-31 12:51:18,991] Trial 48 finished with value: 0.8858757951341072 and parameters: {'classifier': 'DecisionTree', 'criterion': 'entropy', 'max_depth': 18, 'min_samples_split': 8, 'min_samples_leaf': 6}. Best is trial 42 with value: 0.9019994753754345.\n",
            "[I 2023-10-31 12:51:19,177] Trial 49 finished with value: 0.8986720440684636 and parameters: {'classifier': 'DecisionTree', 'criterion': 'gini', 'max_depth': 48, 'min_samples_split': 3, 'min_samples_leaf': 7}. Best is trial 42 with value: 0.9019994753754345.\n"
          ]
        }
      ]
    },
    {
      "cell_type": "code",
      "source": [
        "# Get the best trial\n",
        "best_trial = study.best_trial\n",
        "\n",
        "# Get the best trial number\n",
        "best_trial_number = best_trial.number\n",
        "\n",
        "# Get the best parameters and the best score\n",
        "best_params = best_trial.params\n",
        "best_score = best_trial.value\n",
        "\n",
        "print(f\"Best Trial Number: {best_trial_number}\")\n",
        "print(f\"Best Parameters: {best_params}\")\n",
        "print(f\"Best Score: {best_score}\")\n"
      ],
      "metadata": {
        "colab": {
          "base_uri": "https://localhost:8080/"
        },
        "id": "CDISZ5v3GM_z",
        "outputId": "8c6e6fa3-0fc8-432c-d321-15025b2cd488"
      },
      "execution_count": 78,
      "outputs": [
        {
          "output_type": "stream",
          "name": "stdout",
          "text": [
            "Best Trial Number: 42\n",
            "Best Parameters: {'classifier': 'DecisionTree', 'criterion': 'gini', 'max_depth': 47, 'min_samples_split': 5, 'min_samples_leaf': 8}\n",
            "Best Score: 0.9019994753754345\n"
          ]
        }
      ]
    },
    {
      "cell_type": "code",
      "source": [
        "# Initialize Decision Tree Classifier with the best hyperparameters\n",
        "best_dt_model = DecisionTreeClassifier(criterion='gini',\n",
        "                                       max_depth=36,\n",
        "                                       min_samples_split=8,\n",
        "                                       min_samples_leaf=8,\n",
        "                                       random_state=42)\n",
        "\n",
        "# Train the model on the full dataset\n",
        "best_dt_model.fit(X_train_top_features_outlier_rm, y)\n"
      ],
      "metadata": {
        "colab": {
          "base_uri": "https://localhost:8080/",
          "height": 91
        },
        "id": "_KCtwItIHBqB",
        "outputId": "c5f1b517-55f0-4776-adbc-6285fa323b7f"
      },
      "execution_count": 79,
      "outputs": [
        {
          "output_type": "execute_result",
          "data": {
            "text/plain": [
              "DecisionTreeClassifier(max_depth=36, min_samples_leaf=8, min_samples_split=8,\n",
              "                       random_state=42)"
            ],
            "text/html": [
              "<style>#sk-container-id-3 {color: black;background-color: white;}#sk-container-id-3 pre{padding: 0;}#sk-container-id-3 div.sk-toggleable {background-color: white;}#sk-container-id-3 label.sk-toggleable__label {cursor: pointer;display: block;width: 100%;margin-bottom: 0;padding: 0.3em;box-sizing: border-box;text-align: center;}#sk-container-id-3 label.sk-toggleable__label-arrow:before {content: \"▸\";float: left;margin-right: 0.25em;color: #696969;}#sk-container-id-3 label.sk-toggleable__label-arrow:hover:before {color: black;}#sk-container-id-3 div.sk-estimator:hover label.sk-toggleable__label-arrow:before {color: black;}#sk-container-id-3 div.sk-toggleable__content {max-height: 0;max-width: 0;overflow: hidden;text-align: left;background-color: #f0f8ff;}#sk-container-id-3 div.sk-toggleable__content pre {margin: 0.2em;color: black;border-radius: 0.25em;background-color: #f0f8ff;}#sk-container-id-3 input.sk-toggleable__control:checked~div.sk-toggleable__content {max-height: 200px;max-width: 100%;overflow: auto;}#sk-container-id-3 input.sk-toggleable__control:checked~label.sk-toggleable__label-arrow:before {content: \"▾\";}#sk-container-id-3 div.sk-estimator input.sk-toggleable__control:checked~label.sk-toggleable__label {background-color: #d4ebff;}#sk-container-id-3 div.sk-label input.sk-toggleable__control:checked~label.sk-toggleable__label {background-color: #d4ebff;}#sk-container-id-3 input.sk-hidden--visually {border: 0;clip: rect(1px 1px 1px 1px);clip: rect(1px, 1px, 1px, 1px);height: 1px;margin: -1px;overflow: hidden;padding: 0;position: absolute;width: 1px;}#sk-container-id-3 div.sk-estimator {font-family: monospace;background-color: #f0f8ff;border: 1px dotted black;border-radius: 0.25em;box-sizing: border-box;margin-bottom: 0.5em;}#sk-container-id-3 div.sk-estimator:hover {background-color: #d4ebff;}#sk-container-id-3 div.sk-parallel-item::after {content: \"\";width: 100%;border-bottom: 1px solid gray;flex-grow: 1;}#sk-container-id-3 div.sk-label:hover label.sk-toggleable__label {background-color: #d4ebff;}#sk-container-id-3 div.sk-serial::before {content: \"\";position: absolute;border-left: 1px solid gray;box-sizing: border-box;top: 0;bottom: 0;left: 50%;z-index: 0;}#sk-container-id-3 div.sk-serial {display: flex;flex-direction: column;align-items: center;background-color: white;padding-right: 0.2em;padding-left: 0.2em;position: relative;}#sk-container-id-3 div.sk-item {position: relative;z-index: 1;}#sk-container-id-3 div.sk-parallel {display: flex;align-items: stretch;justify-content: center;background-color: white;position: relative;}#sk-container-id-3 div.sk-item::before, #sk-container-id-3 div.sk-parallel-item::before {content: \"\";position: absolute;border-left: 1px solid gray;box-sizing: border-box;top: 0;bottom: 0;left: 50%;z-index: -1;}#sk-container-id-3 div.sk-parallel-item {display: flex;flex-direction: column;z-index: 1;position: relative;background-color: white;}#sk-container-id-3 div.sk-parallel-item:first-child::after {align-self: flex-end;width: 50%;}#sk-container-id-3 div.sk-parallel-item:last-child::after {align-self: flex-start;width: 50%;}#sk-container-id-3 div.sk-parallel-item:only-child::after {width: 0;}#sk-container-id-3 div.sk-dashed-wrapped {border: 1px dashed gray;margin: 0 0.4em 0.5em 0.4em;box-sizing: border-box;padding-bottom: 0.4em;background-color: white;}#sk-container-id-3 div.sk-label label {font-family: monospace;font-weight: bold;display: inline-block;line-height: 1.2em;}#sk-container-id-3 div.sk-label-container {text-align: center;}#sk-container-id-3 div.sk-container {/* jupyter's `normalize.less` sets `[hidden] { display: none; }` but bootstrap.min.css set `[hidden] { display: none !important; }` so we also need the `!important` here to be able to override the default hidden behavior on the sphinx rendered scikit-learn.org. See: https://github.com/scikit-learn/scikit-learn/issues/21755 */display: inline-block !important;position: relative;}#sk-container-id-3 div.sk-text-repr-fallback {display: none;}</style><div id=\"sk-container-id-3\" class=\"sk-top-container\"><div class=\"sk-text-repr-fallback\"><pre>DecisionTreeClassifier(max_depth=36, min_samples_leaf=8, min_samples_split=8,\n",
              "                       random_state=42)</pre><b>In a Jupyter environment, please rerun this cell to show the HTML representation or trust the notebook. <br />On GitHub, the HTML representation is unable to render, please try loading this page with nbviewer.org.</b></div><div class=\"sk-container\" hidden><div class=\"sk-item\"><div class=\"sk-estimator sk-toggleable\"><input class=\"sk-toggleable__control sk-hidden--visually\" id=\"sk-estimator-id-3\" type=\"checkbox\" checked><label for=\"sk-estimator-id-3\" class=\"sk-toggleable__label sk-toggleable__label-arrow\">DecisionTreeClassifier</label><div class=\"sk-toggleable__content\"><pre>DecisionTreeClassifier(max_depth=36, min_samples_leaf=8, min_samples_split=8,\n",
              "                       random_state=42)</pre></div></div></div></div></div>"
            ]
          },
          "metadata": {},
          "execution_count": 79
        }
      ]
    },
    {
      "cell_type": "markdown",
      "source": [
        "#### Checkpoint, Label Encoder & Scaler Saving for Deployement in Streamlit [Considered Top 10 outlier removed features]"
      ],
      "metadata": {
        "id": "jYW7x8_mmblL"
      }
    },
    {
      "cell_type": "markdown",
      "source": [
        "Saving trained model on no outliers 10 important features dataset."
      ],
      "metadata": {
        "id": "JWlbepR3m5ia"
      }
    },
    {
      "cell_type": "code",
      "source": [
        "import joblib\n",
        "joblib.dump(best_dt_model, 'best_dt_model.pkl')"
      ],
      "metadata": {
        "colab": {
          "base_uri": "https://localhost:8080/"
        },
        "id": "MO2iLsh_HfdZ",
        "outputId": "266979eb-79b1-4c52-ca21-c7429a5cce87"
      },
      "execution_count": 80,
      "outputs": [
        {
          "output_type": "execute_result",
          "data": {
            "text/plain": [
              "['best_dt_model.pkl']"
            ]
          },
          "metadata": {},
          "execution_count": 80
        }
      ]
    },
    {
      "cell_type": "markdown",
      "source": [
        "Saving label encoder categorical features for streamlit"
      ],
      "metadata": {
        "id": "Djo0KL-znasx"
      }
    },
    {
      "cell_type": "code",
      "source": [
        "import joblib\n",
        "\n",
        "label_columns = ['job','education','month','poutcome']\n",
        "\n",
        "# Save the LabelEncoder\n",
        "label_encoders = {}\n",
        "for column in label_columns:\n",
        "    le = LabelEncoder()\n",
        "    df[column] = le.fit_transform(df[column])\n",
        "    label_encoders[column] = le\n",
        "\n",
        "joblib.dump(label_encoders, 'label_encoders.pkl')\n"
      ],
      "metadata": {
        "colab": {
          "base_uri": "https://localhost:8080/"
        },
        "id": "ySrOqt_0nrT6",
        "outputId": "18bfddce-0127-4565-b159-05ddfc0d5b02"
      },
      "execution_count": 81,
      "outputs": [
        {
          "output_type": "execute_result",
          "data": {
            "text/plain": [
              "['label_encoders.pkl']"
            ]
          },
          "metadata": {},
          "execution_count": 81
        }
      ]
    },
    {
      "cell_type": "markdown",
      "source": [
        "Saving scaler for features scaling in streamlit"
      ],
      "metadata": {
        "id": "Drnb6m_inByq"
      }
    },
    {
      "cell_type": "code",
      "source": [
        "fetures = [ \"duration\", \"balance\", \"age\", \"day\", \"month\", \"pdays\", \"job\", \"poutcome\", \"campaign\", \"education\" ]\n",
        "\n",
        "X_no_outliers_tmp = X_no_outliers[fetures]\n",
        "\n",
        "X_no_outliers_tmp = scaler.fit_transform(X_no_outliers_tmp)\n",
        "\n",
        "joblib.dump(scaler, 'scaler.pkl')\n"
      ],
      "metadata": {
        "colab": {
          "base_uri": "https://localhost:8080/"
        },
        "id": "hhdlmXpEpCnu",
        "outputId": "d1107807-76d2-431c-8006-b2196e194c7f"
      },
      "execution_count": 82,
      "outputs": [
        {
          "output_type": "execute_result",
          "data": {
            "text/plain": [
              "['scaler.pkl']"
            ]
          },
          "metadata": {},
          "execution_count": 82
        }
      ]
    }
  ]
}